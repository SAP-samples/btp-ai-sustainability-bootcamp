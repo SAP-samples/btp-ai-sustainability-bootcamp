{
 "cells": [
  {
   "cell_type": "markdown",
   "id": "02fc96bb",
   "metadata": {},
   "source": [
    "# LGP defect detection in AI Core -  Part 1"
   ]
  },
  {
   "cell_type": "markdown",
   "id": "fadc08df-eb9d-43f9-a1a6-84e6f918f5d0",
   "metadata": {},
   "source": [
    "The figure below summarizes the different steps one needs to go through to train and deploy a ML model in AI Core.\n",
    "\n",
    "<img src=\"../../../../resources/AICoreMLOps.png\" width=\"900\"> \n",
    "\n",
    "In this notebook we assume that step 0.1 and 0.2 have been already done. We will guide you through:\n",
    "\n",
    "* **Connecting a GitHub repository to an AI Core instance** using the AI API SDK (step 0.4 in the figure)\n",
    "* **Connecting a Docker registry to an AI Core instance** using the AI API SDK (step 0.5 in the figure)\n",
    "* **Uploading data on S3 and create a resource group** (step 1 in the figure)\n",
    "\n",
    "<span style=\"color:red\">For your reference, a complete example covering all the steps of the one-time AI Core configuration is available in </span>[this notebook](../notebooks/defect_detection_aicore_notebook_one_time_config.ipynb).\n"
   ]
  },
  {
   "cell_type": "markdown",
   "id": "6a0bdaaa-d26e-4cd3-b824-82ef458b8893",
   "metadata": {},
   "source": [
    "### Before getting started: color conventions\n",
    "\n",
    "The comments within the notebook will guide you to the required steps. Pay attention to the color conventions:\n",
    "\n",
    "* <span style=\"color:magenta\"> **Magenta text**  </span> indicates that you have to open certain json files and modify them according to your own set up, for instance you can be asked to enter credentials for a certain system, change names for the variables etc.  \n",
    "* <span style=\"color:blue\"> **Blue text**  </span> indicates that you have to execute commands on a terminal. \n",
    "* <span style=\"color:green\"> **Green text** </span> indicates that you are asked to modify something in the following notebook cell. \n"
   ]
  },
  {
   "cell_type": "markdown",
   "id": "0b9123a4-3213-46ec-8cb5-1b237a1de50c",
   "metadata": {},
   "source": [
    "## Create an AI API client instance"
   ]
  },
  {
   "cell_type": "code",
   "execution_count": null,
   "id": "f08f2504-e91d-401d-bf1f-26ceaf654597",
   "metadata": {},
   "outputs": [],
   "source": [
    "from ai_api_client_sdk import ai_api_v2_client\n",
    "from ai_api_client_sdk.ai_api_v2_client import AIAPIV2Client\n",
    "import json"
   ]
  },
  {
   "cell_type": "code",
   "execution_count": null,
   "id": "b99ad8d7-9a83-4211-8762-89a05ca6fc62",
   "metadata": {},
   "outputs": [],
   "source": [
    "from ai_api_client_sdk import ai_api_v2_client"
   ]
  },
  {
   "cell_type": "markdown",
   "id": "3b81fc74-c054-4cf2-b7b7-b00265b6e6c1",
   "metadata": {},
   "source": [
    "First of all, we need to create an AI API client instance, which will allow us to interact with our SAP AI Core tenant. <span style=\"color:magenta\">Before executing the code, edit </span>**[aic_service_key.json](./files/aic_service_key.json)**<span style=\"color:magenta\"> and enter the right credentials of your AI Core tenant</span>."
   ]
  },
  {
   "cell_type": "code",
   "execution_count": null,
   "id": "60ae9a7e",
   "metadata": {},
   "outputs": [],
   "source": [
    "# Your service key JSON file relative to your aicore instance\n",
    "aic_service_key_path = './files/aic_service_key.json'\n",
    "\n",
    "# Loads the service key file\n",
    "with open(aic_service_key_path) as ask:\n",
    "    aic_service_key = json.load(ask)\n",
    "\n",
    "# Creating an AI API client instance\n",
    "ai_api_client = AIAPIV2Client(\n",
    "    base_url = aic_service_key[\"serviceurls\"][\"AI_API_URL\"] + \"/v2\", # The present AI API version is 2\n",
    "    auth_url=  aic_service_key[\"url\"] + \"/oauth/token\",\n",
    "    client_id = aic_service_key['clientid'],\n",
    "    client_secret = aic_service_key['clientsecret']\n",
    ")"
   ]
  },
  {
   "cell_type": "markdown",
   "id": "2a2e7151",
   "metadata": {},
   "source": [
    "##  Connect your GitHub repository to SAP AI Core"
   ]
  },
  {
   "cell_type": "markdown",
   "id": "b14529fa",
   "metadata": {},
   "source": [
    "Now, let's use the AI API client to connect your GitHub repository to the AI Core instance. <span style=\"color:magenta\">Before executing the code, edit </span> **[git_setup.json](./files/git_setup.json)** <span style=\"color:magenta\">with your GitHub credentials (for the moment we focus on the first part of the json)</span>:\n",
    "* <span style=\"color:magenta\">name:</span> complete with the name that will identify the GitHub connection within AI Core\n",
    "* <span style=\"color:magenta\">URL:</span> your GitHub repository url\n",
    "* <span style=\"color:magenta\">username:</span> your GitHub username\n",
    "* <span style=\"color:magenta\">password:</span> your GitHub access token\n",
    "</span>."
   ]
  },
  {
   "cell_type": "code",
   "execution_count": null,
   "id": "407293c4",
   "metadata": {},
   "outputs": [],
   "source": [
    "git_setup_file_path = \"./files/git_setup.json\""
   ]
  },
  {
   "cell_type": "code",
   "execution_count": null,
   "id": "e87eec14",
   "metadata": {},
   "outputs": [],
   "source": [
    "# Loads your git_setup.json\n",
    "with open(git_setup_file_path) as gs:\n",
    "    setup_json = json.load(gs)\n",
    "\n",
    "# Connects your repo\n",
    "repo_json = setup_json[\"repo\"]\n",
    "response = ai_api_client.rest_client.post(\n",
    "    path=\"/admin/repositories\",\n",
    "    body={\n",
    "        \"name\": repo_json[\"name\"],\n",
    "        \"url\": repo_json[\"url\"],\n",
    "        \"username\": repo_json[\"username\"],\n",
    "        \"password\": repo_json[\"password\"]\n",
    "    }\n",
    ")\n",
    "print(response)"
   ]
  },
  {
   "cell_type": "markdown",
   "id": "1a36d1e3",
   "metadata": {},
   "source": [
    "Check out if the repository has been registered correctly:"
   ]
  },
  {
   "cell_type": "code",
   "execution_count": null,
   "id": "2f742279",
   "metadata": {},
   "outputs": [],
   "source": [
    "ai_api_client.rest_client.get(\n",
    "    path=\"/admin/repositories\"\n",
    ")"
   ]
  },
  {
   "cell_type": "markdown",
   "id": "34d0e57c",
   "metadata": {},
   "source": [
    "##  Connect your Docker Registry to SAP AI Core"
   ]
  },
  {
   "cell_type": "markdown",
   "id": "0a52e1fc-8fdd-4969-9053-7e212f01c239",
   "metadata": {},
   "source": [
    "Next, let's use the AI API client to connect your  we need to create an AI API client instance, which will allow us to interact with our SAP AI Core tenant. <span style=\"color:magenta\">Before executing the code, edit </span> **[docker_secret.json](./files/docker_secret.json)** <span style=\"color:magenta\">with your docker credentials</span>:\n",
    "* <span style=\"color:magenta\">username:</span> your docker username\n",
    "* <span style=\"color:magenta\">password:</span> your docker access token\n",
    "</span>."
   ]
  },
  {
   "cell_type": "code",
   "execution_count": null,
   "id": "703e7b14-159c-44a6-b2d0-4c5d5bb75824",
   "metadata": {},
   "outputs": [],
   "source": [
    "docker_secret_file_path = './files/docker_secret.json'\n",
    "\n",
    "# Loads the json file\n",
    "with open(docker_secret_file_path) as dsf:\n",
    "    docker_secret = json.load(dsf)\n",
    "\n",
    "response = ai_api_client.rest_client.post(\n",
    "    path=\"/admin/dockerRegistrySecrets\",\n",
    "    body={\n",
    "        \"name\": docker_secret[\"name\"],\n",
    "        \"data\": docker_secret[\"data\"]\n",
    "    }\n",
    ")\n",
    "print(response)"
   ]
  },
  {
   "cell_type": "markdown",
   "id": "844b56c4-6cb6-4467-8e95-e61066fc3595",
   "metadata": {},
   "source": [
    "## Upload data on S3 and connect them to a Resource Group"
   ]
  },
  {
   "cell_type": "markdown",
   "id": "b6e7bda9-887c-46c1-843e-ddb33e00d80a",
   "metadata": {},
   "source": [
    "### Create a new Resource Group"
   ]
  },
  {
   "cell_type": "markdown",
   "id": "57a2813e-5449-45d3-bb64-63cfadaac39b",
   "metadata": {},
   "source": [
    "Resource Groups represent a virtual collection of related resources within the scope of one SAP AI Core tenant. Let's create a specific resource group for the defect detection exercise with the AI API client. The new resource group will then appear also on the AI Lauchpad UI. \n"
   ]
  },
  {
   "cell_type": "markdown",
   "id": "4f3b11a7-0afa-4b0d-9409-15b3861bd0a4",
   "metadata": {},
   "source": [
    "Let's first use the **get** api have a look at the resource groups already present in the tenant:"
   ]
  },
  {
   "cell_type": "code",
   "execution_count": null,
   "id": "fa215e59-77ee-4095-8d29-59e3c2c95be5",
   "metadata": {},
   "outputs": [],
   "source": [
    "ai_api_client.rest_client.get(\n",
    "    path=f\"/admin/resourceGroups\"\n",
    ")"
   ]
  },
  {
   "cell_type": "markdown",
   "id": "4ff1ad70-b56b-4d0d-9fca-0d605a0960b1",
   "metadata": {},
   "source": [
    "Let's assign a name for the new resource group, for instance:"
   ]
  },
  {
   "cell_type": "code",
   "execution_count": null,
   "id": "d570fc2f-7ff0-4937-bb7c-738a27a785ce",
   "metadata": {},
   "outputs": [],
   "source": [
    "resource_group=\"defect-det\""
   ]
  },
  {
   "cell_type": "markdown",
   "id": "31538d96-9701-42b7-a0da-f630e81b092b",
   "metadata": {},
   "source": [
    "Use the **post** API to create the resource group"
   ]
  },
  {
   "cell_type": "code",
   "execution_count": null,
   "id": "c549a660-30e4-4b18-9a48-26c4b67f4aec",
   "metadata": {},
   "outputs": [],
   "source": [
    "ai_api_client.rest_client.post(\n",
    "    path=\"/admin/resourceGroups\",\n",
    "    body={\n",
    "        \"resourceGroupId\": resource_group \n",
    "    }\n",
    ")"
   ]
  },
  {
   "cell_type": "markdown",
   "id": "da6e8c72-cdd0-4ed1-b456-2a4aa3e95d5f",
   "metadata": {},
   "source": [
    "We can now verify the new resource group is now present on the list"
   ]
  },
  {
   "cell_type": "code",
   "execution_count": null,
   "id": "9a65b3eb-4218-4a5b-a724-98787ee7bab4",
   "metadata": {},
   "outputs": [],
   "source": [
    "ai_api_client.rest_client.get(\n",
    "    path=f\"/admin/resourceGroups/{resource_group}\"\n",
    ")"
   ]
  },
  {
   "cell_type": "markdown",
   "id": "a20002fc-32bd-426d-8c1d-a2e4ed2d0c67",
   "metadata": {},
   "source": [
    "### Upload the data on AWS S3 and register it to the Resource Group"
   ]
  },
  {
   "cell_type": "markdown",
   "id": "cc38426e-bc76-445f-a9a5-d50be110e5fb",
   "metadata": {},
   "source": [
    "In this exercise we will use AWS S3 Object Store as a cloud storage for our AI Core datasets and models. If you went through the **[prerequisites](../../../../prerequisites/prerequisites.md)**, you have already set up an S3 storage bucket and uploaded the image dataset.\n",
    "Now you need to **register the Object Store to SAP AI Core resource group**. In order to do that we prepare a json file with the needed AWS S3 credentials and we use a proper AI API in order to register it. <span style=\"color:magenta\"> Please enter your AWS S3 Object Store credentials in  </span>  **[s3_service_key.json](./files/s3_service_key.json)** before executing the following code. \n"
   ]
  },
  {
   "cell_type": "code",
   "execution_count": null,
   "id": "7e2cf10e-d6eb-407a-97e0-00ac18daeb4a",
   "metadata": {},
   "outputs": [],
   "source": [
    "# Loads your service key\n",
    "s3_service_key_path = \"./files/s3_service_key.json\"\n",
    "\n",
    "# Loads the service key file\n",
    "with open(s3_service_key_path) as s3sk:\n",
    "    s3_service_key = json.load(s3sk)\n",
    "\n",
    "default_secret = {\n",
    "    \"name\": \"default\",\n",
    "    \"type\": \"S3\",\n",
    "    \"endpoint\": s3_service_key[\"host\"],\n",
    "    \"bucket\": s3_service_key[\"bucket\"],\n",
    "    \"pathPrefix\": \"image\",\n",
    "    \"region\": s3_service_key[\"region\"],\n",
    "    \"data\": {\n",
    "        \"AWS_ACCESS_KEY_ID\": s3_service_key[\"access_key_id\"],\n",
    "        \"AWS_SECRET_ACCESS_KEY\": s3_service_key[\"secret_access_key\"]\n",
    "    }\n",
    "}\n",
    "\n",
    "# Call the api\n",
    "ai_api_client.rest_client.post(\n",
    "    path=\"/admin/objectStoreSecrets\",\n",
    "    body = default_secret, # defined above\n",
    "    resource_group = resource_group\n",
    ")"
   ]
  },
  {
   "cell_type": "code",
   "execution_count": null,
   "id": "698acd9f-8b71-4c13-9196-4a65eb7a5be6",
   "metadata": {},
   "outputs": [],
   "source": [
    "ai_api_client.rest_client.get(\n",
    "    path=\"/admin/objectStoreSecrets\",\n",
    "    resource_group = resource_group\n",
    ")"
   ]
  },
  {
   "cell_type": "markdown",
   "id": "72dd1846-2f44-4aa8-94a7-89080d7ee870",
   "metadata": {},
   "source": [
    "### Check out [defect-detection-part2.ipynb](./defect-detection-part2.ipynb) to continue with the exercise."
   ]
  },
  {
   "cell_type": "code",
   "execution_count": null,
   "id": "ec105be9-a99f-42df-892f-bf348bff94a4",
   "metadata": {},
   "outputs": [],
   "source": []
  }
 ],
 "metadata": {
  "kernelspec": {
   "display_name": "Python 3 (ipykernel)",
   "language": "python",
   "name": "python3"
  },
  "language_info": {
   "codemirror_mode": {
    "name": "ipython",
    "version": 3
   },
   "file_extension": ".py",
   "mimetype": "text/x-python",
   "name": "python",
   "nbconvert_exporter": "python",
   "pygments_lexer": "ipython3",
   "version": "3.9.6"
  }
 },
 "nbformat": 4,
 "nbformat_minor": 5
}
